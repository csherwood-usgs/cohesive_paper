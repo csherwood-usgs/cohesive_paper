{
 "cells": [
  {
   "cell_type": "markdown",
   "metadata": {},
   "source": [
    "### Toy Model for Floc Size Evolution\n",
    "This implements the floc model of Winterwerp (1998) using parameters tested in the lab by Keyvani and Strom (2014)."
   ]
  },
  {
   "cell_type": "code",
   "execution_count": 1,
   "metadata": {
    "collapsed": false
   },
   "outputs": [
    {
     "data": {
      "text/plain": [
       "<matplotlib.text.Text at 0x1ed6240>"
      ]
     },
     "execution_count": 1,
     "metadata": {},
     "output_type": "execute_result"
    },
    {
     "data": {
      "image/png": "[encoded data removed]",
      "text/plain": [
       "<matplotlib.figure.Figure at 0x8aecd30>"
      ]
     },
     "metadata": {},
     "output_type": "display_data"
    }
   ],
   "source": [
    "# solve dD/dt = A - B\n",
    "import numpy as np\n",
    "from scipy.integrate import odeint\n",
    "from pylab import *\n",
    "%matplotlib inline\n",
    "\n",
    "def dDdt(D, t, k):\n",
    "    \"\"\"\n",
    "    ODE to be integrated: dDdt = A-B\n",
    "    \"\"\"\n",
    "    # kind of constant:\n",
    "    nf = 2.\n",
    "    p = 3.-nf\n",
    "    q = 0.5\n",
    "    Fy = 10e-10 # (N)\n",
    "    rhos = 2500.  # (kg/m3)\n",
    "    mu = 1.002e-3 # dynamic viscosity @ 20 degC (N s m-2)\n",
    "    \n",
    "    # adjustable (passed in in array k)\n",
    "    Ka = k[0]\n",
    "    Kb = k[1]\n",
    "    Dp = k[2]\n",
    "    G =  k[3]\n",
    "    C =  k[4]\n",
    "    \n",
    "    # aggregation and breakup terms\n",
    "    A = D**(4-nf)*Ka*Dp**(nf-3)*G*C/(nf*rhos)\n",
    "    B = (D-Dp)**p * D**(2*q+1) *Kb *((Dp**(-p))/nf) *(mu/Fy)**q *G**(q+1)\n",
    "    dfdt = A-B\n",
    "    return dfdt\n",
    "\n",
    "\n",
    "# adjustable params\n",
    "Dp = 7e-6 # (m)\n",
    "G = 35. # (s-1)\n",
    "Ka = 0.73\n",
    "Kb = 9.5e-6\n",
    "C = 35.e-3 # (kg/m3)\n",
    "k = np.array((Ka,Kb,Dp,G,C))\n",
    "\n",
    "# initial values\n",
    "D0 = 20e-6 # (m)\n",
    "t = np.linspace(0.,10000.,100)\n",
    "# integrate\n",
    "D = odeint(dDdt,D0,t,args = (k,))\n",
    "\n",
    "# De = last value\n",
    "De = 1e6*D[-1]\n",
    "ts = r\"$D_e$ = {0:5.1f}\".format(De[0])\n",
    "\n",
    "# plot\n",
    "fig = plt.figure(figsize=(4,3))\n",
    "ax = fig.add_subplot(111)\n",
    "plt.plot(t,1e6*D,label='$Floc size$')\n",
    "plt.xlabel('Time (s)')\n",
    "plt.ylabel('Floc Size ($\\mu$m)')\n",
    "ax.text(0.65*t[-1],0.85*De,ts)"
   ]
  }
 ],
 "metadata": {
  "_draft": {
   "nbviewer_url": "https://gist.github.com/1f26e9abca34883460d086c9f310a01c"
  },
  "gist": {
   "data": {
    "description": "Winterwerp1998.ipynb",
    "public": true
   },
   "id": "1f26e9abca34883460d086c9f310a01c"
  },
  "kernelspec": {
   "display_name": "Python 2",
   "language": "python",
   "name": "python2"
  },
  "language_info": {
   "codemirror_mode": {
    "name": "ipython",
    "version": 2
   },
   "file_extension": ".py",
   "mimetype": "text/x-python",
   "name": "python",
   "nbconvert_exporter": "python",
   "pygments_lexer": "ipython2",
   "version": "2.7.12"
  }
 },
 "nbformat": 4,
 "nbformat_minor": 1
}
