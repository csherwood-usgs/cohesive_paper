{
 "cells": [
  {
   "cell_type": "code",
   "execution_count": 1,
   "metadata": {
    "collapsed": false
   },
   "outputs": [],
   "source": [
    "#import local ROMS and CRS packages\n",
    "import sys\n",
    "import os\n",
    "import platform\n",
    "import netCDF4\n",
    "\n",
    "from pylab import *\n",
    "% matplotlib inline\n",
    "\n",
    "import flopy as fp"
   ]
  },
  {
   "cell_type": "code",
   "execution_count": 2,
   "metadata": {
    "collapsed": false
   },
   "outputs": [
    {
     "name": "stdout",
     "output_type": "stream",
     "text": [
      "Testing floc props:\n",
      "\n",
      "rhof:  [ 2650.          1394.2712941   1108.91463917  1044.06908763  1029.33333333]\n",
      "wsf :  [  1.41700000e-05   6.23559166e-05   2.74400870e-04   1.20751713e-03\n",
      "   5.31375000e-03]\n"
     ]
    }
   ],
   "source": [
    "# test to see if flopy is working\n",
    "print(\"Testing floc props:\\n\")\n",
    "Dp0 = 4.0e-6\n",
    "Dpmax = 1500.e-6\n",
    "Df = 10.**np.linspace( np.log10(Dp0),np.log10(Dpmax),5)\n",
    "#Df = 200.e-6\n",
    "nf = 2.\n",
    "rhof, wsf = fp.floc_props( Df, Dp0, nf )\n",
    "print(\"rhof: \",rhof)\n",
    "print(\"wsf : \",wsf)\n"
   ]
  },
  {
   "cell_type": "code",
   "execution_count": 3,
   "metadata": {
    "collapsed": false
   },
   "outputs": [
    {
     "name": "stdout",
     "output_type": "stream",
     "text": [
      "Testing Hetland's depth.py functions:\n",
      "[-5.         -4.90523832 -4.80962908 -4.71318575 -4.61592473 -4.5178654\n",
      " -4.41903011 -4.31944417 -4.21913582 -4.11813621 -4.01647932 -3.91420192\n",
      " -3.81134345 -3.70794598 -3.60405407 -3.49971462 -3.39497679 -3.2898918\n",
      " -3.18451279 -3.07889467 -2.97309387 -2.86716821 -2.76117666 -2.65517915\n",
      " -2.54923635 -2.44340944 -2.3377599  -2.23234928 -2.12723898 -2.02249001\n",
      " -1.91816281 -1.81431698 -1.71101112 -1.60830261 -1.5062474  -1.40489984\n",
      " -1.30431253 -1.20453611 -1.10561915 -1.00760798 -0.91054661 -0.81447658\n",
      " -0.71943689 -0.6254639  -0.53259129 -0.44085    -0.35026816 -0.26087112\n",
      " -0.17268141 -0.08571873  0.        ]\n",
      "[-4.95272583 -4.85753887 -4.76151072 -4.66465631 -4.56699353 -4.46854324\n",
      " -4.36932927 -4.26937842 -4.16872037 -4.0673877  -3.96541578 -3.86284275\n",
      " -3.75970937 -3.65605895 -3.55193726 -3.44739235 -3.34247441 -3.23723565\n",
      " -3.13173013 -3.02601352 -2.92014298 -2.81417694 -2.70817487 -2.6021971\n",
      " -2.49630457 -2.39055865 -2.28502088 -2.17975277 -2.07481553 -1.97026994\n",
      " -1.86617603 -1.76259294 -1.65957866 -1.5571899  -1.45548183 -1.35450794\n",
      " -1.25431987 -1.15496725 -1.05649753 -0.95895592 -0.86238518 -0.7668256\n",
      " -0.67231488 -0.57888805 -0.4865774  -0.39541249 -0.30542007 -0.21662405\n",
      " -0.12904557 -0.04270292]\n"
     ]
    }
   ],
   "source": [
    "# vertical grid parameters\n",
    "Vtransform = 1\n",
    "Vstretching = 1\n",
    "N  = 50\n",
    "Np = 51\n",
    "hc = 0.0 \n",
    "theta_s = 1.0\n",
    "theta_b = 0.8\n",
    "h = 5.\n",
    "\n",
    "# use Rob Hetland's depths.py functions\n",
    "zw = fp.get_zw(Vtransform=Vtransform, Vstretching=Vstretching, N=N+1, \\\n",
    "    theta_s=theta_s, theta_b=theta_b, h=h, hc=hc, zeta=0, Hscale=3)\n",
    "z = fp.get_zrho(Vtransform=Vtransform, Vstretching=Vstretching, N=N, \\\n",
    "    theta_s=theta_s, theta_b=theta_b, h=h, hc=hc, zeta=0, Hscale=3)\n",
    "print(\"Testing Hetland's depth.py functions:\")\n",
    "print(zw)\n",
    "print(z)"
   ]
  }
 ],
 "metadata": {
  "kernelspec": {
   "display_name": "Python [conda env:IOOS3]",
   "language": "python",
   "name": "conda-env-IOOS3-py"
  },
  "language_info": {
   "codemirror_mode": {
    "name": "ipython",
    "version": 3
   },
   "file_extension": ".py",
   "mimetype": "text/x-python",
   "name": "python",
   "nbconvert_exporter": "python",
   "pygments_lexer": "ipython3",
   "version": "3.6.0"
  }
 },
 "nbformat": 4,
 "nbformat_minor": 2
}
